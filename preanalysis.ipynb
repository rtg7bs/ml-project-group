{
  "cells": [
    {
      "cell_type": "markdown",
      "metadata": {
        "colab_type": "text",
        "id": "view-in-github"
      },
      "source": [
        "<a href=\"https://colab.research.google.com/github/rtg7bs/ml-project-group/blob/main/preanalysis.ipynb\" target=\"_parent\"><img src=\"https://colab.research.google.com/assets/colab-badge.svg\" alt=\"Open In Colab\"/></a>"
      ]
    },
    {
      "cell_type": "code",
      "execution_count": null,
      "metadata": {
        "id": "fn1R8Le1v2a-"
      },
      "outputs": [],
      "source": []
    },
    {
      "cell_type": "markdown",
      "metadata": {
        "id": "SVPLr0zDv25D"
      },
      "source": [
        "1. What is an observation in your study?\n",
        "An observation in our study is an individual and includes data on factors that may\n",
        "contribute to that individual’s risk of developing obesity. Each observation can include dietary behaviors, such as calorie intake or the number of meals/day, and physical lifestyle __ such as frequency of exercise, intensity, and mode of transportation used. Our data also includes information on water and alcohol consumption. By defining each row in our dataset as an ‘observation’, we can analyze how these factors interact and contribute to various levels of obesity risk in the population.\n",
        "\n",
        "\n",
        "3. What models or algorithms do you plan to use in your analysis? How?\n",
        "For this analysis, logistic regression can be employed for its interpretability and ability to identify the significance of various lifestyles that are attributed to obesity. It can help us to identify which lifestyle factors (like calorie intake or physical activity frequency) are statistically significant in predicting different obesity categories.  Another mode of analysis can be decision trees which are ideal for capturing non-linear interactions, especially among dietary, physical, and lifestyle factors. These decision trees can reveal, for example, that individuals who exercise infrequently and consume a higher amount of calories are at a higher obesity risk. This will help in understanding how multiple variables impact obesity. A kNN model can be used as a comparison model that can reveal that individuals with similar lifestyles may have a similar obesity risk.\n",
        "\n",
        "4. How will you know if your approach \"works\"? What does success mean?\n",
        "Success can be measured by metrics such as the Sum of Squared Error or the Mean Squared Error or the Root Mean Squared Error. We can use the validation data set to further analyze the accuracy of our model. But, on a more holistic level, if our original model is unable to produce results that are quantitatively considered to be successful through the values of said metrics, as long as we are able to document our process and understand why our plan did not produce the desired results, we can learn from our experience with working with the data and with creating models to better equip ourselves in the future when we face similar challenges. \n"
      ]
    }
  ],
  "metadata": {
    "colab": {
      "authorship_tag": "ABX9TyOBytcIstdaessAw9kYB6G0",
      "include_colab_link": true,
      "provenance": []
    },
    "kernelspec": {
      "display_name": "Python 3",
      "name": "python3"
    },
    "language_info": {
      "name": "python"
    }
  },
  "nbformat": 4,
  "nbformat_minor": 0
}
