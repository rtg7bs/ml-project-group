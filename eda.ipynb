{
 "cells": [
  {
   "cell_type": "markdown",
   "metadata": {},
   "source": []
  },
  {
   "cell_type": "markdown",
   "metadata": {},
   "source": [
    "EDA/Wrangling: Obesity Risk Prediction\n",
    "\n",
    "Data Dictionary\n",
    "| Variable Name | Description |\n",
    "| ------------- | ------------|\n",
    "| ID | unique identifier for each observation|\n",
    "| Gender | gender of the individual (male or female)|\n",
    "| Age| age of the individual (years)|\n",
    "| Height | height of the individual (m) |\n",
    "| Weight| weight of the individual (kg) |\n",
    "| family_history_with_overweight| whether the individual has a family history of being overweight (yes or no) |\n",
    "| FAVC| whether the individual frequently consumes high-caloric foods (yes/no)|\n",
    "| FCVC| whether the individual frequently consumes vegetables (yes/no)|\n",
    "| NCP| number of main meals eaten per day|\n",
    "| CAEC| frequency of eating food in between meals (Sometimes, Frequently, Always) |\n",
    "| SMOKE | whether the individual is a smoker (yes/no)|\n",
    "| CH2O| daily water consumption |\n",
    "| SCC| whether the indiviudal monitors the amount of calories they consume (yes/no) |\n",
    "| FAF| frequency of physical activity per week |\n",
    "| TUE| time spent using technology/devices (hours per day) |\n",
    "| CALC| frequency of the individual consuming alcohol (Sometimes, Frequently, Always) |\n",
    "| MTRANS| mode of transportation used|\n",
    "|NObeyesdad| target categorical variable of the individual's obesity risk level|\n",
    "\n",
    "\n",
    "\n"
   ]
  },
  {
   "cell_type": "markdown",
   "metadata": {},
   "source": []
  },
  {
   "cell_type": "code",
   "execution_count": 1,
   "metadata": {},
   "outputs": [
    {
     "name": "stdout",
     "output_type": "stream",
     "text": [
      "(20758, 18) \n",
      "\n",
      "id                                  int64\n",
      "Gender                             object\n",
      "Age                               float64\n",
      "Height                            float64\n",
      "Weight                            float64\n",
      "family_history_with_overweight     object\n",
      "FAVC                               object\n",
      "FCVC                              float64\n",
      "NCP                               float64\n",
      "CAEC                               object\n",
      "SMOKE                              object\n",
      "CH2O                              float64\n",
      "SCC                                object\n",
      "FAF                               float64\n",
      "TUE                               float64\n",
      "CALC                               object\n",
      "MTRANS                             object\n",
      "NObeyesdad                         object\n",
      "dtype: object \n",
      "\n",
      "Index(['id', 'Gender', 'Age', 'Height', 'Weight',\n",
      "       'family_history_with_overweight', 'FAVC', 'FCVC', 'NCP', 'CAEC',\n",
      "       'SMOKE', 'CH2O', 'SCC', 'FAF', 'TUE', 'CALC', 'MTRANS', 'NObeyesdad'],\n",
      "      dtype='object') \n",
      "\n"
     ]
    }
   ],
   "source": [
    "import numpy as np\n",
    "import pandas as pd\n",
    "import matplotlib.pyplot as plt\n",
    "import seaborn as sns\n",
    "\n",
    "\n",
    "df = pd.read_csv('./data/train.csv')\n",
    "df.head()\n",
    "\n",
    "print(df.shape, '\\n') # List the dimensions of df\n",
    "print(df.dtypes, '\\n') # The types of the variables; `object` is a bad sign\n",
    "print(df.columns, '\\n') # Column names"
   ]
  }
 ],
 "metadata": {
  "kernelspec": {
   "display_name": "base",
   "language": "python",
   "name": "python3"
  },
  "language_info": {
   "codemirror_mode": {
    "name": "ipython",
    "version": 3
   },
   "file_extension": ".py",
   "mimetype": "text/x-python",
   "name": "python",
   "nbconvert_exporter": "python",
   "pygments_lexer": "ipython3",
   "version": "3.11.4"
  }
 },
 "nbformat": 4,
 "nbformat_minor": 2
}
